{
 "cells": [
  {
   "cell_type": "markdown",
   "id": "e13b9396",
   "metadata": {},
   "source": [
    "# Data Science Tools and Ecosystem"
   ]
  },
  {
   "cell_type": "markdown",
   "id": "a13ef0f5",
   "metadata": {},
   "source": [
    "In this notebook, Data Science Tools and Ecosystem are summarized."
   ]
  },
  {
   "cell_type": "markdown",
   "id": "1a50084e",
   "metadata": {},
   "source": [
    "**Objectives:**\n",
    "* popular languages for Data Scientists\n",
    "* commonly used libraries by Data Scientists\n",
    "* python arithmetic expressions"
   ]
  },
  {
   "cell_type": "markdown",
   "id": "cfec1f72",
   "metadata": {},
   "source": [
    "Some of the popular languages that Data Scientists use are:"
   ]
  },
  {
   "cell_type": "markdown",
   "id": "a0bdcfa4",
   "metadata": {},
   "source": [
    "1. R\n",
    "2. Python\n",
    "3. Julia\n"
   ]
  },
  {
   "cell_type": "markdown",
   "id": "5a35519b",
   "metadata": {},
   "source": [
    "Some of the commonly used libraries used by Data Scientists include:\n",
    "1. dplyr\n",
    "2. ggplot2\n",
    "3. caret"
   ]
  },
  {
   "cell_type": "markdown",
   "id": "8b8b67e3",
   "metadata": {},
   "source": [
    "| Data Science Tools |\n",
    " ----------------------\n",
    "| Jupyter Notebook  |\n",
    "| Rstudio |\n",
    "| Apache Zeppelin |"
   ]
  },
  {
   "cell_type": "markdown",
   "id": "12217db8",
   "metadata": {},
   "source": [
    "### Below are a few examples of evaluating arithmetic expressions in Python"
   ]
  },
  {
   "cell_type": "code",
   "execution_count": 1,
   "id": "57ec0355",
   "metadata": {},
   "outputs": [
    {
     "data": {
      "text/plain": [
       "17"
      ]
     },
     "execution_count": 1,
     "metadata": {},
     "output_type": "execute_result"
    }
   ],
   "source": [
    "#This a simple arithmetic expression to mutiply then add integers\n",
    "(3*4)+5\n"
   ]
  },
  {
   "cell_type": "code",
   "execution_count": 2,
   "id": "348990f6",
   "metadata": {},
   "outputs": [
    {
     "data": {
      "text/plain": [
       "3.3333333333333335"
      ]
     },
     "execution_count": 2,
     "metadata": {},
     "output_type": "execute_result"
    }
   ],
   "source": [
    "#This will convert 200 minutes to hours by diving by 60\n",
    "200/60"
   ]
  },
  {
   "cell_type": "markdown",
   "id": "cb0c4b7c",
   "metadata": {},
   "source": [
    "## Author\n",
    "Tinotenda Musingarimi"
   ]
  },
  {
   "cell_type": "code",
   "execution_count": null,
   "id": "7eb5f75f",
   "metadata": {},
   "outputs": [],
   "source": []
  }
 ],
 "metadata": {
  "kernelspec": {
   "display_name": "Python 3 (ipykernel)",
   "language": "python",
   "name": "python3"
  },
  "language_info": {
   "codemirror_mode": {
    "name": "ipython",
    "version": 3
   },
   "file_extension": ".py",
   "mimetype": "text/x-python",
   "name": "python",
   "nbconvert_exporter": "python",
   "pygments_lexer": "ipython3",
   "version": "3.11.4"
  }
 },
 "nbformat": 4,
 "nbformat_minor": 5
}
